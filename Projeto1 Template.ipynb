{
 "cells": [
  {
   "cell_type": "markdown",
   "metadata": {},
   "source": [
    "# Projeto 1 - Ciência dos Dados"
   ]
  },
  {
   "cell_type": "markdown",
   "metadata": {},
   "source": [
    "Nome: Eduardo Oliveira\n",
    "\n",
    "Nome: Henrique Leite dos Santos"
   ]
  },
  {
   "cell_type": "markdown",
   "metadata": {},
   "source": [
    "Atenção: Serão permitidos grupos de três pessoas, mas com uma rubrica mais exigente. Grupos deste tamanho precisarão fazer um questionário de avaliação de trabalho em equipe"
   ]
  },
  {
   "cell_type": "markdown",
   "metadata": {},
   "source": [
    "___\n",
    "Carregando algumas bibliotecas:"
   ]
  },
  {
   "cell_type": "code",
   "execution_count": 1,
   "metadata": {},
   "outputs": [],
   "source": [
    "%matplotlib inline\n",
    "import pandas as pd\n",
    "import matplotlib.pyplot as plt\n",
    "import numpy as np\n",
    "import os"
   ]
  },
  {
   "cell_type": "code",
   "execution_count": 2,
   "metadata": {
    "scrolled": false
   },
   "outputs": [
    {
     "name": "stdout",
     "output_type": "stream",
     "text": [
      "Esperamos trabalhar no diretório\n",
      "C:\\Users\\henri\\OneDrive - Insper - Institudo de Ensino e Pesquisa\\Aulas\\Aulas 2º Semestre\\CDados\\Projeto 1\\Projeto\n"
     ]
    }
   ],
   "source": [
    "print('Esperamos trabalhar no diretório')\n",
    "print(os.getcwd())"
   ]
  },
  {
   "cell_type": "markdown",
   "metadata": {},
   "source": [
    "Carregando a base de dados com os tweets classificados manualmente:"
   ]
  },
  {
   "cell_type": "code",
   "execution_count": 3,
   "metadata": {},
   "outputs": [
    {
     "data": {
      "text/html": [
       "<div>\n",
       "<style scoped>\n",
       "    .dataframe tbody tr th:only-of-type {\n",
       "        vertical-align: middle;\n",
       "    }\n",
       "\n",
       "    .dataframe tbody tr th {\n",
       "        vertical-align: top;\n",
       "    }\n",
       "\n",
       "    .dataframe thead th {\n",
       "        text-align: right;\n",
       "    }\n",
       "</style>\n",
       "<table border=\"1\" class=\"dataframe\">\n",
       "  <thead>\n",
       "    <tr style=\"text-align: right;\">\n",
       "      <th></th>\n",
       "      <th>Mensagem</th>\n",
       "      <th>Target</th>\n",
       "    </tr>\n",
       "  </thead>\n",
       "  <tbody>\n",
       "    <tr>\n",
       "      <th>0</th>\n",
       "      <td>O autor escreve sua experiência pessoal do que...</td>\n",
       "      <td>Livro</td>\n",
       "    </tr>\n",
       "    <tr>\n",
       "      <th>1</th>\n",
       "      <td>Partindo do fundamentalismo cristão e de ideia...</td>\n",
       "      <td>Livro</td>\n",
       "    </tr>\n",
       "    <tr>\n",
       "      <th>2</th>\n",
       "      <td>Não li o livro ainda, então a avaliação refere...</td>\n",
       "      <td>Livro</td>\n",
       "    </tr>\n",
       "    <tr>\n",
       "      <th>3</th>\n",
       "      <td>Não acompanho o youtube, talvez seja a falta d...</td>\n",
       "      <td>Livro</td>\n",
       "    </tr>\n",
       "    <tr>\n",
       "      <th>4</th>\n",
       "      <td>O livro é apenas uma motivação, muito superfic...</td>\n",
       "      <td>Livro</td>\n",
       "    </tr>\n",
       "  </tbody>\n",
       "</table>\n",
       "</div>"
      ],
      "text/plain": [
       "                                            Mensagem Target\n",
       "0  O autor escreve sua experiência pessoal do que...  Livro\n",
       "1  Partindo do fundamentalismo cristão e de ideia...  Livro\n",
       "2  Não li o livro ainda, então a avaliação refere...  Livro\n",
       "3  Não acompanho o youtube, talvez seja a falta d...  Livro\n",
       "4  O livro é apenas uma motivação, muito superfic...  Livro"
      ]
     },
     "execution_count": 3,
     "metadata": {},
     "output_type": "execute_result"
    }
   ],
   "source": [
    "train_raw = pd.read_excel('dados_treino.xlsx')\n",
    "train_raw.head(5)"
   ]
  },
  {
   "cell_type": "code",
   "execution_count": 4,
   "metadata": {
    "scrolled": false
   },
   "outputs": [
    {
     "data": {
      "text/html": [
       "<div>\n",
       "<style scoped>\n",
       "    .dataframe tbody tr th:only-of-type {\n",
       "        vertical-align: middle;\n",
       "    }\n",
       "\n",
       "    .dataframe tbody tr th {\n",
       "        vertical-align: top;\n",
       "    }\n",
       "\n",
       "    .dataframe thead th {\n",
       "        text-align: right;\n",
       "    }\n",
       "</style>\n",
       "<table border=\"1\" class=\"dataframe\">\n",
       "  <thead>\n",
       "    <tr style=\"text-align: right;\">\n",
       "      <th></th>\n",
       "      <th>Mensagem</th>\n",
       "      <th>Target</th>\n",
       "    </tr>\n",
       "  </thead>\n",
       "  <tbody>\n",
       "    <tr>\n",
       "      <th>0</th>\n",
       "      <td>Acabei de comprar O Hobbit (versão Kindle) par...</td>\n",
       "      <td>amazon</td>\n",
       "    </tr>\n",
       "    <tr>\n",
       "      <th>1</th>\n",
       "      <td>O diário de Anne Frank trata-se de uma farsa, ...</td>\n",
       "      <td>livro</td>\n",
       "    </tr>\n",
       "    <tr>\n",
       "      <th>2</th>\n",
       "      <td>Não achei muita graça não 👎🏻</td>\n",
       "      <td>livro</td>\n",
       "    </tr>\n",
       "    <tr>\n",
       "      <th>3</th>\n",
       "      <td>Olá, Recebi uma notificação por email que não ...</td>\n",
       "      <td>amazon</td>\n",
       "    </tr>\n",
       "    <tr>\n",
       "      <th>4</th>\n",
       "      <td>\"Sapiens: uma breve história da humanidade rea...</td>\n",
       "      <td>livro</td>\n",
       "    </tr>\n",
       "  </tbody>\n",
       "</table>\n",
       "</div>"
      ],
      "text/plain": [
       "                                            Mensagem  Target\n",
       "0  Acabei de comprar O Hobbit (versão Kindle) par...  amazon\n",
       "1  O diário de Anne Frank trata-se de uma farsa, ...   livro\n",
       "2                       Não achei muita graça não 👎🏻   livro\n",
       "3  Olá, Recebi uma notificação por email que não ...  amazon\n",
       "4  \"Sapiens: uma breve história da humanidade rea...   livro"
      ]
     },
     "execution_count": 4,
     "metadata": {},
     "output_type": "execute_result"
    }
   ],
   "source": [
    "test_raw = pd.read_excel('dados_teste.xlsx')\n",
    "test_raw.head(5)"
   ]
  },
  {
   "cell_type": "markdown",
   "metadata": {},
   "source": [
    "___\n",
    "## Limpeza das mensagens\n"
   ]
  },
  {
   "cell_type": "code",
   "execution_count": 5,
   "metadata": {
    "scrolled": true
   },
   "outputs": [],
   "source": [
    "import re\n",
    "\n",
    "# Função que limpa as pontuações das mensagens\n",
    "def clean(text):\n",
    "    punctuation = '[´\"!-.:?;$'']'\n",
    "    pattern = re.compile(punctuation)\n",
    "    text_subbed = re.sub(pattern, '', text)\n",
    "    return text_subbed"
   ]
  },
  {
   "cell_type": "code",
   "execution_count": 39,
   "metadata": {},
   "outputs": [
    {
     "data": {
      "text/html": [
       "<div>\n",
       "<style scoped>\n",
       "    .dataframe tbody tr th:only-of-type {\n",
       "        vertical-align: middle;\n",
       "    }\n",
       "\n",
       "    .dataframe tbody tr th {\n",
       "        vertical-align: top;\n",
       "    }\n",
       "\n",
       "    .dataframe thead th {\n",
       "        text-align: right;\n",
       "    }\n",
       "</style>\n",
       "<table border=\"1\" class=\"dataframe\">\n",
       "  <thead>\n",
       "    <tr style=\"text-align: right;\">\n",
       "      <th></th>\n",
       "      <th>Mensagem</th>\n",
       "      <th>Target</th>\n",
       "    </tr>\n",
       "  </thead>\n",
       "  <tbody>\n",
       "    <tr>\n",
       "      <th>0</th>\n",
       "      <td>o autor escreve sua experiência pessoal do que...</td>\n",
       "      <td>livro</td>\n",
       "    </tr>\n",
       "    <tr>\n",
       "      <th>1</th>\n",
       "      <td>partindo do fundamentalismo cristão e de ideia...</td>\n",
       "      <td>livro</td>\n",
       "    </tr>\n",
       "    <tr>\n",
       "      <th>2</th>\n",
       "      <td>não li o livro ainda então a avaliação referes...</td>\n",
       "      <td>livro</td>\n",
       "    </tr>\n",
       "    <tr>\n",
       "      <th>3</th>\n",
       "      <td>não acompanho o youtube talvez seja a falta de...</td>\n",
       "      <td>livro</td>\n",
       "    </tr>\n",
       "    <tr>\n",
       "      <th>4</th>\n",
       "      <td>o livro é apenas uma motivação muito superfici...</td>\n",
       "      <td>livro</td>\n",
       "    </tr>\n",
       "  </tbody>\n",
       "</table>\n",
       "</div>"
      ],
      "text/plain": [
       "                                            Mensagem Target\n",
       "0  o autor escreve sua experiência pessoal do que...  livro\n",
       "1  partindo do fundamentalismo cristão e de ideia...  livro\n",
       "2  não li o livro ainda então a avaliação referes...  livro\n",
       "3  não acompanho o youtube talvez seja a falta de...  livro\n",
       "4  o livro é apenas uma motivação muito superfici...  livro"
      ]
     },
     "execution_count": 39,
     "metadata": {},
     "output_type": "execute_result"
    }
   ],
   "source": [
    "dados_train = []\n",
    "\n",
    "# Limpeza das mensagens da base de dados de treino\n",
    "for i in range(len(train_raw)):\n",
    "    mensagem_raw = train_raw.Mensagem[i]\n",
    "    mensagem = clean(mensagem_raw)\n",
    "    target = train_raw.Target[i]\n",
    "    \n",
    "    dados_train.append([mensagem.lower(), target.lower()])\n",
    "    \n",
    "train = pd.DataFrame(dados_train, columns=['Mensagem','Target'])\n",
    "\n",
    "train.head(5)"
   ]
  },
  {
   "cell_type": "code",
   "execution_count": 7,
   "metadata": {},
   "outputs": [
    {
     "data": {
      "text/html": [
       "<div>\n",
       "<style scoped>\n",
       "    .dataframe tbody tr th:only-of-type {\n",
       "        vertical-align: middle;\n",
       "    }\n",
       "\n",
       "    .dataframe tbody tr th {\n",
       "        vertical-align: top;\n",
       "    }\n",
       "\n",
       "    .dataframe thead th {\n",
       "        text-align: right;\n",
       "    }\n",
       "</style>\n",
       "<table border=\"1\" class=\"dataframe\">\n",
       "  <thead>\n",
       "    <tr style=\"text-align: right;\">\n",
       "      <th></th>\n",
       "      <th>Mensagem</th>\n",
       "      <th>Target</th>\n",
       "    </tr>\n",
       "  </thead>\n",
       "  <tbody>\n",
       "    <tr>\n",
       "      <th>0</th>\n",
       "      <td>acabei de comprar o hobbit versão kindle para ...</td>\n",
       "      <td>amazon</td>\n",
       "    </tr>\n",
       "    <tr>\n",
       "      <th>1</th>\n",
       "      <td>o diário de anne frank tratase de uma farsa um...</td>\n",
       "      <td>livro</td>\n",
       "    </tr>\n",
       "    <tr>\n",
       "      <th>2</th>\n",
       "      <td>não achei muita graça não 👎🏻</td>\n",
       "      <td>livro</td>\n",
       "    </tr>\n",
       "    <tr>\n",
       "      <th>3</th>\n",
       "      <td>olá recebi uma notificação por email que não f...</td>\n",
       "      <td>amazon</td>\n",
       "    </tr>\n",
       "    <tr>\n",
       "      <th>4</th>\n",
       "      <td>sapiens uma breve história da humanidade realm...</td>\n",
       "      <td>livro</td>\n",
       "    </tr>\n",
       "  </tbody>\n",
       "</table>\n",
       "</div>"
      ],
      "text/plain": [
       "                                            Mensagem  Target\n",
       "0  acabei de comprar o hobbit versão kindle para ...  amazon\n",
       "1  o diário de anne frank tratase de uma farsa um...   livro\n",
       "2                       não achei muita graça não 👎🏻   livro\n",
       "3  olá recebi uma notificação por email que não f...  amazon\n",
       "4  sapiens uma breve história da humanidade realm...   livro"
      ]
     },
     "execution_count": 7,
     "metadata": {},
     "output_type": "execute_result"
    }
   ],
   "source": [
    "dados_test = []\n",
    "\n",
    "# Limpeza das mensagens da base de dados de teste\n",
    "for i in range(len(test_raw)):\n",
    "    mensagem_raw = test_raw.Mensagem[i]\n",
    "    mensagem = clean(mensagem_raw)\n",
    "    target = test_raw.Target[i]\n",
    "    \n",
    "    dados_test.append([mensagem.lower(), target.lower()])\n",
    "    \n",
    "test = pd.DataFrame(dados_test, columns=['Mensagem','Target'])\n",
    "\n",
    "test.head(5)"
   ]
  },
  {
   "cell_type": "markdown",
   "metadata": {},
   "source": [
    "___\n",
    "## Classificador automático\n"
   ]
  },
  {
   "cell_type": "markdown",
   "metadata": {},
   "source": [
    "Faça aqui uma descrição do seu assunto e o que considerou como relevante ou não relevante na classificação das reviews (Target).\n",
    "\n",
    "Ao definir a variável Target do projeto, nos colocamos na posição de um empregado da Amazon que deseja saber quais reclamações são em relação à entrega dos livros ou à plataforma Amazon (preços, entrega, etc.) e quais são reclamações relacionadas ao conteúdo dos livros."
   ]
  },
  {
   "cell_type": "markdown",
   "metadata": {},
   "source": [
    "___\n",
    "### Montando um Classificador Naive-Bayes\n",
    "\n",
    "Considerando apenas as mensagens da planilha Treinamento, ensine  seu classificador."
   ]
  },
  {
   "cell_type": "markdown",
   "metadata": {},
   "source": [
    "Eventos possíveis:\n",
    "\n",
    "- $Amazon$: a reclamação é relacionada à Amazon;\n",
    "- $Livro$: a reclamação é relacionada ao Livro;\n",
    "- $Outro$: a reclamação não é relacionada à Amazon nem ao Livro;\n",
    "- $Reclamação$: uma reclamação dentro da base de dados.\n",
    "\n",
    "\n",
    "A partir das palavras da reclamação, queremos calcular a probabilidade da reclamação ser direcionada à Amazon, ao Livro ou outra coisa. Traduzindo em termos de probabilidades:\n",
    "\n",
    "- $P(Amazon|Reclamação)$: probabilidade da reclamação ser para a \"Amazon\";\n",
    "- $P(Livro|Reclamação)$: probabilidade da reclamação ser para o \"Livro\";\n",
    "- $P(Outro|Reclamação)$: probabilidade da reclamação ser para \"Outro\".\n",
    "\n",
    "A depender da maior probabilidade, dado a reclamação, classificaremos a mensagem como direcionada à alguma das partes."
   ]
  },
  {
   "cell_type": "markdown",
   "metadata": {},
   "source": [
    "As probabilidades serão calculadas da seguinte forma:\n",
    "\n",
    "Para a $P(Amazon|Reclamação)$:\n",
    "\n",
    "$$P(Amazon|Reclamação) = \\frac{P(Reclamação|Amazon) P(Amazon)}{P(Reclamação)}$$\n",
    "\n",
    "<br>\n",
    "\n",
    "<br>\n",
    "\n",
    "O processo é análogo para $P(Livro|Reclamação)$:\n",
    "\n",
    "$$P(Livro|Reclamação) = \\frac{P(Reclamação|Livro) P(Livro)}{P(Reclamação)}$$\n",
    "\n",
    "<br>\n",
    "\n",
    "<br>\n",
    "\n",
    "E segue o mesmo para outros tipos de reclamação $P(Outro|Reclamação)$:\n",
    "\n",
    "$$P(Outro|Reclamação) = \\frac{P(Reclamação|Outro) P(Outro)}{P(Reclamação)}$$\n",
    "\n",
    "<br>\n",
    "<br>\n",
    "\n",
    "Ou seja, precisamos de: \n",
    "- $P(Reclamação|Amazon)$: probabilidade de encontrar a reclamação na target Amazon;\n",
    "- $P(Reclamação|Livro)$: probabilidade de encontrar a reclamação na target Livro;\n",
    "- $P(Reclamação|Outro)$: probabilidade de encontrar a reclamação na target Livro;\n",
    "- $P(Amazon)$: probabilidade da target ser \"Amazon\";\n",
    "- $P(Livro)$: probabilidade da target ser \"Livro\";\n",
    "- $P(Outro)$: probabilidade da target ser \"Outro\";\n",
    "- $P(Reclamação)$: probabilidade de uma reclamação ocorrer na língua portuguesa.\n"
   ]
  },
  {
   "cell_type": "markdown",
   "metadata": {},
   "source": [
    "### Probabilidades:\n",
    " - $P(livro)$\n",
    " - $P(amazon)$\n",
    " - $P(outro)$"
   ]
  },
  {
   "cell_type": "code",
   "execution_count": 12,
   "metadata": {},
   "outputs": [],
   "source": [
    "P_target = train.Target.value_counts(normalize=True)\n",
    "\n",
    "P_livro = P_target[0]\n",
    "P_amazon = P_target[1]\n",
    "P_outro = P_target[2]"
   ]
  },
  {
   "cell_type": "code",
   "execution_count": 43,
   "metadata": {
    "scrolled": false
   },
   "outputs": [
    {
     "data": {
      "text/plain": [
       "0            o\n",
       "1      produto\n",
       "2         veio\n",
       "3        muito\n",
       "4          bem\n",
       "5     embalado\n",
       "6            e\n",
       "7            a\n",
       "8    embalagem\n",
       "9         para\n",
       "dtype: object"
      ]
     },
     "execution_count": 43,
     "metadata": {},
     "output_type": "execute_result"
    }
   ],
   "source": [
    "mensagens_amazon = train.loc[train['Target']=='amazon', ['Mensagem']]\n",
    "mensagens_amazon = mensagens_amazon.reset_index(drop=True)\n",
    "\n",
    "todas_palavras_amazon = ''\n",
    "\n",
    "for i in range(len(mensagens_amazon['Mensagem'])):\n",
    "    msg = str(mensagens_amazon.Mensagem[i])\n",
    "    todas_palavras_amazon += msg\n",
    "    \n",
    "\n",
    "serie_amazon = pd.Series(todas_palavras_amazon.split())\n",
    "\n",
    "serie_amazon.head(10)"
   ]
  },
  {
   "cell_type": "code",
   "execution_count": 50,
   "metadata": {},
   "outputs": [
    {
     "data": {
      "text/plain": [
       "o           90\n",
       "a           82\n",
       "de          78\n",
       "que         76\n",
       "e           69\n",
       "            ..\n",
       "algun        1\n",
       "respeito     1\n",
       "houvr        1\n",
       "omitir       1\n",
       "nest         1\n",
       "Length: 930, dtype: int64"
      ]
     },
     "execution_count": 50,
     "metadata": {},
     "output_type": "execute_result"
    }
   ],
   "source": [
    "tabela_amazon = serie_amazon.value_counts()\n",
    "tabela_amazon_relativa = serie_amazon.value_counts(True)\n",
    "\n",
    "tabela_amazon"
   ]
  },
  {
   "cell_type": "markdown",
   "metadata": {},
   "source": [
    "___\n",
    "### Verificando a performance do Classificador\n",
    "\n",
    "Agora você deve testar o seu classificador com a base de Testes."
   ]
  },
  {
   "cell_type": "code",
   "execution_count": null,
   "metadata": {},
   "outputs": [],
   "source": []
  },
  {
   "cell_type": "code",
   "execution_count": null,
   "metadata": {},
   "outputs": [],
   "source": []
  },
  {
   "cell_type": "code",
   "execution_count": null,
   "metadata": {},
   "outputs": [],
   "source": []
  },
  {
   "cell_type": "markdown",
   "metadata": {},
   "source": [
    "___\n",
    "### Concluindo"
   ]
  },
  {
   "cell_type": "code",
   "execution_count": null,
   "metadata": {},
   "outputs": [],
   "source": []
  },
  {
   "cell_type": "code",
   "execution_count": null,
   "metadata": {},
   "outputs": [],
   "source": []
  },
  {
   "cell_type": "code",
   "execution_count": null,
   "metadata": {},
   "outputs": [],
   "source": []
  },
  {
   "cell_type": "markdown",
   "metadata": {},
   "source": [
    "___\n",
    "### Qualidade do Classificador a partir de novas separações dos tweets entre Treinamento e Teste\n",
    "\n",
    "Caso for fazer esse item do Projeto"
   ]
  },
  {
   "cell_type": "code",
   "execution_count": null,
   "metadata": {},
   "outputs": [],
   "source": []
  },
  {
   "cell_type": "code",
   "execution_count": null,
   "metadata": {},
   "outputs": [],
   "source": []
  },
  {
   "cell_type": "code",
   "execution_count": null,
   "metadata": {},
   "outputs": [],
   "source": []
  },
  {
   "cell_type": "markdown",
   "metadata": {},
   "source": [
    "___\n",
    "## Aperfeiçoamento:\n",
    "\n",
    "Trabalhos que conseguirem pelo menos conceito B vão evoluir em conceito dependendo da quantidade de itens avançados:\n",
    "\n",
    "* IMPLEMENTOU outras limpezas e transformações que não afetem a qualidade da informação contida nos tweets. Ex: stemming, lemmatization, stopwords\n",
    "* CONSIDEROU mais de duas categorias na variável Target e INCREMENTOU a quantidade de notícias, mantendo pelo menos 250 notícias por categoria (OBRIGATÓRIO PARA TRIOS, sem contar como item avançado)\n",
    "* Para Target com duas categorias: CRIOU pelo menos quatro categorias intermediárias de relevância baseadas na probabilidade: ex.: muito relevante, relevante, neutro, irrelevante, muito irrelevante\n",
    "* EXPLICOU porquê não pode usar o próprio classificador para gerar mais amostras de treinamento\n",
    "* PROPÔS diferentes cenários para Naïve Bayes fora do contexto do projeto (pelo menos dois cenários, exceto aqueles já apresentados em sala pelos professores: por exemplo, filtro de spam)\n",
    "* SUGERIU e EXPLICOU melhorias reais com indicações concretas de como implementar (indicar como fazer e indicar material de pesquisa)\n",
    "* FEZ o item Qualidade do Classificador a partir de novas separações das Notícias entre Treinamento e Teste descrito no enunciado do projeto (OBRIGATÓRIO para conceitos A ou A+)"
   ]
  },
  {
   "cell_type": "markdown",
   "metadata": {},
   "source": [
    "___\n",
    "## Referências"
   ]
  },
  {
   "cell_type": "markdown",
   "metadata": {},
   "source": [
    "[Naive Bayes and Text Classification](https://arxiv.org/pdf/1410.5329.pdf)  **Mais completo**\n",
    "\n",
    "[A practical explanation of a Naive Bayes Classifier](https://monkeylearn.com/blog/practical-explanation-naive-bayes-classifier/) **Mais simples**"
   ]
  },
  {
   "cell_type": "code",
   "execution_count": null,
   "metadata": {},
   "outputs": [],
   "source": []
  }
 ],
 "metadata": {
  "kernelspec": {
   "display_name": "Python 3 (ipykernel)",
   "language": "python",
   "name": "python3"
  },
  "language_info": {
   "codemirror_mode": {
    "name": "ipython",
    "version": 3
   },
   "file_extension": ".py",
   "mimetype": "text/x-python",
   "name": "python",
   "nbconvert_exporter": "python",
   "pygments_lexer": "ipython3",
   "version": "3.9.13"
  }
 },
 "nbformat": 4,
 "nbformat_minor": 4
}
